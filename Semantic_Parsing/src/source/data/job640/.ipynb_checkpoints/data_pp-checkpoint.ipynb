{
 "cells": [
  {
   "cell_type": "code",
   "execution_count": 28,
   "metadata": {},
   "outputs": [],
   "source": [
    "TRAIN_DATA_PATH = 'job_train.txt'\n",
    "TEST_DATA_PATH = 'job_test.txt'\n",
    "\n",
    "PP_DATA_PATH = 'pp_data.json'\n",
    "VOCAB_PATH = 'vocab.json'\n",
    "IN_VOCAB_PATH = 'in_vocab.txt'"
   ]
  },
  {
   "cell_type": "code",
   "execution_count": 29,
   "metadata": {},
   "outputs": [],
   "source": [
    "import re\n",
    "import json\n",
    "from nltk.corpus import words\n",
    "import random\n",
    "import numpy as np\n",
    "from collections import Counter"
   ]
  },
  {
   "cell_type": "code",
   "execution_count": 30,
   "metadata": {},
   "outputs": [],
   "source": [
    "# read data by lines\n",
    "with open(TRAIN_DATA_PATH, 'r') as f:\n",
    "    train_data_set = f.read().splitlines()\n",
    "    \n",
    "with open(TEST_DATA_PATH, 'r') as f:\n",
    "    test_data_set = f.read().splitlines()"
   ]
  },
  {
   "cell_type": "code",
   "execution_count": 31,
   "metadata": {},
   "outputs": [
    {
     "name": "stdout",
     "output_type": "stream",
     "text": [
      "500\n",
      "140\n",
      "640\n"
     ]
    }
   ],
   "source": [
    "print(len(train_data_set)) # 500\n",
    "print(len(test_data_set)) # 140\n",
    "\n",
    "data_set = train_data_set + test_data_set\n",
    "\n",
    "print(len(data_set)) # 640"
   ]
  },
  {
   "cell_type": "code",
   "execution_count": 32,
   "metadata": {},
   "outputs": [],
   "source": [
    "data_set = [i.lower() for i in data_set]"
   ]
  },
  {
   "cell_type": "code",
   "execution_count": 33,
   "metadata": {},
   "outputs": [
    {
     "name": "stdout",
     "output_type": "stream",
     "text": [
      "list the posit that requir a knowledg of companyid0 applicationid0\tjob ( ans ) , application ( ans , applicationid0 )\n"
     ]
    }
   ],
   "source": [
    "index = random.sample(list(range(len(data_set))),1)[0]\n",
    "print(data_set[index])"
   ]
  },
  {
   "cell_type": "code",
   "execution_count": 34,
   "metadata": {},
   "outputs": [],
   "source": [
    "# split name, id\n",
    "for i in range(len(data_set)):\n",
    "    data_set[i] = data_set[i].replace('id', ' ' + 'id' + ' ')"
   ]
  },
  {
   "cell_type": "code",
   "execution_count": 35,
   "metadata": {},
   "outputs": [],
   "source": [
    "# split number\n",
    "for i in range(len(data_set)):\n",
    "    for j in range(10):\n",
    "        data_set[i] = data_set[i].replace(str(j), ' ' + str(j) + ' ')"
   ]
  },
  {
   "cell_type": "code",
   "execution_count": 36,
   "metadata": {},
   "outputs": [],
   "source": [
    "# split _\n",
    "for i in range(len(data_set)):\n",
    "    data_set[i] = data_set[i].replace('_', ' ' + '_' + ' ')"
   ]
  },
  {
   "cell_type": "code",
   "execution_count": 37,
   "metadata": {},
   "outputs": [],
   "source": [
    "# split pairs\n",
    "sample_list, label_list = [], []\n",
    "\n",
    "for i in range(len(data_set)):\n",
    "    pair = data_set[i].split('\\t')\n",
    "    sample_list.append(pair[0])\n",
    "    label_list.append(pair[1])"
   ]
  },
  {
   "cell_type": "code",
   "execution_count": 38,
   "metadata": {},
   "outputs": [
    {
     "name": "stdout",
     "output_type": "stream",
     "text": [
      "640\n",
      "640\n",
      "list job in area id  0 \n",
      "job ( ans ) , area ( ans , area id  0  )\n"
     ]
    }
   ],
   "source": [
    "print(len(sample_list))\n",
    "print(len(label_list))\n",
    "index = random.sample(list(range(len(sample_list))),1)[0]\n",
    "print(sample_list[index])\n",
    "print(label_list[index])"
   ]
  },
  {
   "cell_type": "code",
   "execution_count": 39,
   "metadata": {},
   "outputs": [],
   "source": [
    "# nl & fl tokenization\n",
    "tk_nl_list, tk_fl_list = [], []\n",
    "\n",
    "for i in range(len(sample_list)):\n",
    "    tk_nl_list.append([nl for nl in sample_list[i].split(' ') if len(nl)>0])\n",
    "    tk_fl_list.append([fl for fl in label_list[i].split(' ') if len(fl)>0])"
   ]
  },
  {
   "cell_type": "code",
   "execution_count": 40,
   "metadata": {},
   "outputs": [
    {
     "name": "stdout",
     "output_type": "stream",
     "text": [
      "['are', 'there', 'ani', 'job', 'with', 'company', 'id', '0', 'involv', 'language', 'id', '0']\n",
      "['job', '(', 'ans', ')', ',', 'company', '(', 'ans', ',', 'company', 'id', '0', ')', ',', 'language', '(', 'ans', ',', 'language', 'id', '0', ')']\n"
     ]
    }
   ],
   "source": [
    "index = random.sample(list(range(len(tk_nl_list))),1)[0]\n",
    "print(tk_nl_list[index])\n",
    "print(tk_fl_list[index])"
   ]
  },
  {
   "cell_type": "code",
   "execution_count": 41,
   "metadata": {},
   "outputs": [],
   "source": [
    "# count tokens\n",
    "all_c = Counter()\n",
    "for i in range(len(tk_nl_list)):\n",
    "    all_c.update(tk_nl_list[i])\n",
    "#     all_c.update(tk_fl_list[i])\n",
    "\n",
    "all_token_freq_dict = dict(all_c)\n",
    "\n",
    "fl_c = Counter()\n",
    "for i in range(len(tk_fl_list)):\n",
    "    fl_c.update(tk_fl_list[i])\n",
    "\n",
    "fl_token_freq_dict = dict(fl_c)"
   ]
  },
  {
   "cell_type": "code",
   "execution_count": 42,
   "metadata": {},
   "outputs": [
    {
     "name": "stdout",
     "output_type": "stream",
     "text": [
      "175\n",
      "[('id', 1059), ('0', 1052), ('job', 582), ('language', 276), ('in', 255), ('are', 240), ('what', 236), ('loc', 213), ('a', 209), ('requir', 198), ('there', 184), ('me', 184), ('the', 173), ('show', 163), ('deg', 135), ('platform', 133), ('use', 130), ('area', 119), ('year', 109), ('for', 103), ('that', 101), ('on', 90), ('num', 89), ('_', 89), ('salary', 89), ('title', 89), ('ani', 87), ('experi', 85), ('and', 84), ('with', 81), ('of', 80), ('company', 76), ('pay', 43), ('list', 42), ('not', 42), ('1', 42), ('give', 40), ('at', 40), ('desir', 30), ('salari', 28), ('degre', 28), ('specialist', 27), ('do', 26), ('which', 26), ('but', 26), ('tell', 23), ('avail', 22), ('posit', 21), ('all', 20), ('no', 20), ('i', 18), ('per', 18), ('application', 17), ('knowledg', 17), ('have', 16), ('than', 15), ('least', 14), ('to', 13), ('is', 13), ('program', 13), ('dont', 13), ('work', 12), ('offer', 12), ('know', 12), ('open', 11), ('find', 11), ('who', 10), ('can', 10), ('need', 9), ('you', 9), ('want', 9), ('doe', 8), ('involv', 7), ('locat', 7), ('greater', 7), ('like', 6), ('recruiter', 6), ('as', 6), ('an', 6), ('comput', 6), ('out', 6), ('more', 6), ('recruit', 5), ('could', 5), ('compani', 5), ('onli', 5), ('some', 5), ('over', 5), ('specialti', 5), ('or', 4), ('dollar', 4), ('2', 4), ('machin', 4), ('titl', 4), ('everyth', 3), ('see', 3), ('deal', 3), ('hire', 3), ('develop', 3), ('would', 3), ('system', 3), ('special', 3), ('anyth', 3), ('within', 3), ('outs', 3), ('peopl', 3), ('applic', 2), ('from', 2), ('administr', 2), ('employ', 2), ('earn', 2), ('anyon', 2), ('oper', 2), ('their', 2), ('tool', 2), ('wish', 2), ('were', 2), ('old', 2), ('concern', 2), ('relat', 2), ('move', 2), ('sure', 2), ('less', 2), ('student', 2), ('fresh', 2), ('colleg', 2), ('make', 2), ('major', 2), ('art', 2), ('requirng', 2), ('kind', 2), ('it', 1), ('pleas', 1), ('someth', 1), ('near', 1), ('name', 1), ('might', 1), ('doesnt', 1), ('key', 1), ('hour', 1), ('look', 1), ('how', 1), ('much', 1), ('field', 1), ('where', 1), ('us', 1), ('familiar', 1), ('environ', 1), ('hardwar', 1), ('associ', 1), ('wonder', 1), ('someon', 1), ('satiat', 1), ('languag', 1), ('greed', 1), ('live', 1), ('vaniti', 1), ('month', 1), ('buzword', 1), ('hold', 1), ('without', 1), ('.', 1), ('help', 1), ('if', 1), ('learn', 1), ('cs', 1), ('still', 1), ('level', 1), ('exist', 1), ('knowldg', 1), ('must', 1), ('be', 1), ('think', 1), ('has', 1), ('invlov', 1)]\n"
     ]
    }
   ],
   "source": [
    "print(len(all_c))\n",
    "print(all_c.most_common())"
   ]
  },
  {
   "cell_type": "code",
   "execution_count": 43,
   "metadata": {},
   "outputs": [
    {
     "name": "stdout",
     "output_type": "stream",
     "text": [
      "38\n",
      "[(',', 2530), ('(', 1901), (')', 1901), ('ans', 1865), ('id', 1051), ('0', 1048), ('job', 633), ('language', 546), ('_', 509), ('loc', 425), ('deg', 288), ('platform', 261), ('area', 224), ('req', 208), ('salary', 179), ('title', 179), ('company', 148), ('year', 130), ('than', 90), ('num', 89), ('greater', 88), ('exp', 87), ('\\\\+', 82), ('application', 43), ('1', 43), ('des', 32), ('a', 19), ('recruiter', 12), ('b', 6), ('j', 6), (';', 4), ('2', 4), ('country', 3), ('x', 3), ('p', 2), ('less', 2), ('hour', 1), ('month', 1)]\n"
     ]
    }
   ],
   "source": [
    "print(len(fl_c))\n",
    "print(fl_c.most_common())"
   ]
  },
  {
   "cell_type": "code",
   "execution_count": 44,
   "metadata": {},
   "outputs": [
    {
     "name": "stdout",
     "output_type": "stream",
     "text": [
      "44\n",
      "['it', 'pleas', 'someth', 'near', 'name', 'might', 'doesnt', 'key', 'hour', 'look', 'how', 'much', 'field', 'where', 'us', 'familiar', 'environ', 'hardwar', 'associ', 'wonder', 'someon', 'satiat', 'languag', 'greed', 'live', 'vaniti', 'month', 'buzword', 'hold', 'without', '.', 'help', 'if', 'learn', 'cs', 'still', 'level', 'exist', 'knowldg', 'must', 'be', 'think', 'has', 'invlov']\n"
     ]
    }
   ],
   "source": [
    "# rare word\n",
    "rare_token_list = [key for key in all_token_freq_dict if all_token_freq_dict[key] <2]\n",
    "print(len(rare_token_list))\n",
    "print(rare_token_list)"
   ]
  },
  {
   "cell_type": "code",
   "execution_count": 45,
   "metadata": {},
   "outputs": [
    {
     "name": "stdout",
     "output_type": "stream",
     "text": [
      "179\n"
     ]
    }
   ],
   "source": [
    "# generate natural language vocabulary index dictionary\n",
    "all_vocab_dict = dict()\n",
    "all_vocab_dict['<s>'] = 0\n",
    "all_vocab_dict['</s>'] = 1\n",
    "all_vocab_dict['<pad>'] = 2\n",
    "all_vocab_dict['<unk>'] = 3\n",
    "i = len(all_vocab_dict)\n",
    "for token in all_token_freq_dict:\n",
    "    # if all_token_freq_dict[token] > 1 and \n",
    "    if token not in all_vocab_dict.keys():\n",
    "            all_vocab_dict[token] = i\n",
    "            i += 1\n",
    "# for token in fl_token_freq_dict:\n",
    "#     if token not in all_vocab_dict.keys():\n",
    "#         all_vocab_dict[token] = i\n",
    "#         i += 1\n",
    "print(len(all_vocab_dict))"
   ]
  },
  {
   "cell_type": "code",
   "execution_count": 46,
   "metadata": {},
   "outputs": [
    {
     "name": "stdout",
     "output_type": "stream",
     "text": [
      "41\n"
     ]
    }
   ],
   "source": [
    "# generate formula language vocabulary index dictionary\n",
    "fl_vocab_dict = dict()\n",
    "fl_vocab_dict['<s>'] = 0\n",
    "fl_vocab_dict['</s>'] = 1\n",
    "fl_vocab_dict['<pad>'] = 2\n",
    "i = len(fl_vocab_dict)\n",
    "for token in fl_token_freq_dict:\n",
    "    if token not in fl_vocab_dict.keys():\n",
    "        fl_vocab_dict[token] = i\n",
    "        i += 1\n",
    "    else:\n",
    "        pass\n",
    "print(len(fl_vocab_dict))"
   ]
  },
  {
   "cell_type": "code",
   "execution_count": 47,
   "metadata": {},
   "outputs": [],
   "source": [
    "# replace unknown word with <unk>\n",
    "# for i in range(len(tk_nl_list)):\n",
    "#     for j in range(len(tk_nl_list[i])):\n",
    "#         if tk_nl_list[i][j] not in all_vocab_dict.keys():\n",
    "#             tk_nl_list[i][j] = '<unk>'"
   ]
  },
  {
   "cell_type": "code",
   "execution_count": 48,
   "metadata": {},
   "outputs": [],
   "source": [
    "# encoder inputs\n",
    "encoder_inputs = []\n",
    "for sample in tk_nl_list:\n",
    "    encoder_inputs.append([all_vocab_dict[token] for token in sample])"
   ]
  },
  {
   "cell_type": "code",
   "execution_count": 49,
   "metadata": {},
   "outputs": [],
   "source": [
    "# decoder inputs\n",
    "decoder_inputs = []\n",
    "for label in tk_fl_list:\n",
    "    decoder_inputs.append([fl_vocab_dict[token] for token in label])"
   ]
  },
  {
   "cell_type": "code",
   "execution_count": 50,
   "metadata": {},
   "outputs": [],
   "source": [
    "# decoder targets\n",
    "decoder_targets = []\n",
    "for label in tk_fl_list:\n",
    "    decoder_targets.append([fl_vocab_dict[token] for token in label])"
   ]
  },
  {
   "cell_type": "code",
   "execution_count": 51,
   "metadata": {},
   "outputs": [],
   "source": [
    "encoder_inputs = np.array(encoder_inputs)\n",
    "decoder_inputs = np.array(decoder_inputs)\n",
    "decoder_targets = np.array(decoder_targets)"
   ]
  },
  {
   "cell_type": "code",
   "execution_count": 52,
   "metadata": {},
   "outputs": [],
   "source": [
    "train_dict = dict()\n",
    "test_dict = dict()\n",
    "\n",
    "train_test_split_index = 500\n",
    "\n",
    "train_dict['encoder_inputs'] = encoder_inputs[:train_test_split_index].tolist()\n",
    "train_dict['decoder_inputs'] = decoder_inputs[:train_test_split_index].tolist()\n",
    "train_dict['decoder_targets'] = decoder_targets[:train_test_split_index].tolist()\n",
    "\n",
    "test_dict['encoder_inputs'] = encoder_inputs[train_test_split_index:].tolist()\n",
    "test_dict['decoder_inputs'] = decoder_inputs[train_test_split_index:].tolist()\n",
    "test_dict['decoder_targets'] = decoder_targets[train_test_split_index:].tolist()"
   ]
  },
  {
   "cell_type": "code",
   "execution_count": 53,
   "metadata": {},
   "outputs": [],
   "source": [
    "# get input vocabulary list\n",
    "input_vocab = list(all_vocab_dict.keys())\n",
    "with open(IN_VOCAB_PATH, 'w') as f:\n",
    "    for i in input_vocab:\n",
    "        f.write(i)\n",
    "        f.write('\\n')"
   ]
  },
  {
   "cell_type": "code",
   "execution_count": 54,
   "metadata": {},
   "outputs": [],
   "source": [
    "# output as json\n",
    "pp_data = dict()\n",
    "pp_data['train_dict'] = train_dict\n",
    "pp_data['test_dict'] = test_dict\n",
    "\n",
    "vocab_dict = dict()\n",
    "vocab_dict['all_vocab_dict'] = all_vocab_dict\n",
    "vocab_dict['fl_vocab_dict'] = fl_vocab_dict\n",
    "\n",
    "with open(PP_DATA_PATH, 'w') as f:\n",
    "    json.dump(pp_data, f, ensure_ascii=False)\n",
    "\n",
    "with open(VOCAB_PATH, 'w') as f:\n",
    "    json.dump(vocab_dict, f, ensure_ascii=False)"
   ]
  },
  {
   "cell_type": "code",
   "execution_count": null,
   "metadata": {},
   "outputs": [],
   "source": []
  }
 ],
 "metadata": {
  "kernelspec": {
   "display_name": "Python 3",
   "language": "python",
   "name": "python3"
  },
  "language_info": {
   "codemirror_mode": {
    "name": "ipython",
    "version": 3
   },
   "file_extension": ".py",
   "mimetype": "text/x-python",
   "name": "python",
   "nbconvert_exporter": "python",
   "pygments_lexer": "ipython3",
   "version": "3.6.4"
  }
 },
 "nbformat": 4,
 "nbformat_minor": 2
}
